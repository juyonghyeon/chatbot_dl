{
 "cells": [
  {
   "cell_type": "code",
   "execution_count": null,
   "id": "0cfa7d9a",
   "metadata": {},
   "outputs": [
    {
     "name": "stderr",
     "output_type": "stream",
     "text": [
      "Some weights of the PyTorch model were not used when initializing the TF 2.0 model TFGPT2LMHeadModel: ['transformer.h.11.attn.masked_bias', 'transformer.h.5.attn.masked_bias', 'transformer.h.2.attn.masked_bias', 'transformer.h.7.attn.masked_bias', 'transformer.h.0.attn.masked_bias', 'transformer.h.8.attn.masked_bias', 'transformer.h.9.attn.masked_bias', 'transformer.h.10.attn.masked_bias', 'transformer.h.1.attn.masked_bias', 'transformer.h.6.attn.masked_bias', 'transformer.h.4.attn.masked_bias', 'transformer.h.3.attn.masked_bias', 'lm_head.weight']\n",
      "- This IS expected if you are initializing TFGPT2LMHeadModel from a PyTorch model trained on another task or with another architecture (e.g. initializing a TFBertForSequenceClassification model from a BertForPreTraining model).\n",
      "- This IS NOT expected if you are initializing TFGPT2LMHeadModel from a PyTorch model that you expect to be exactly identical (e.g. initializing a TFBertForSequenceClassification model from a BertForSequenceClassification model).\n",
      "All the weights of TFGPT2LMHeadModel were initialized from the PyTorch model.\n",
      "If your task is similar to the task the model of the checkpoint was trained on, you can already use TFGPT2LMHeadModel for predictions without further training.\n"
     ]
    }
   ],
   "source": [
    "import tensorflow as tf\n",
    "from transformers import AutoTokenizer\n",
    "from transformers import TFGPT2LMHeadModel\n",
    "\n",
    "tokenizer = AutoTokenizer.from_pretrained('skt/kogpt2-base-v2', bos_token='<s>', eos_token='</s>', pad_token='<pad>')\n",
    "model = TFGPT2LMHeadModel.from_pretrained('skt/kogpt2-base-v2', from_pt=True)"
   ]
  },
  {
   "cell_type": "code",
   "execution_count": null,
   "id": "8c848316",
   "metadata": {},
   "outputs": [],
   "source": [
    "model.load_weights(\"chatbot.weights.h5\")"
   ]
  },
  {
   "cell_type": "code",
   "execution_count": null,
   "id": "eb3a3a5b",
   "metadata": {},
   "outputs": [],
   "source": [
    "def chatbot(user_text):\n",
    "    input_ids = tokenizer.encode(f\"<s><usr>{user_text}<sys>\")\n",
    "    input_ids = tf.convert_to_tensor([input_ids])\n",
    "    outputs = model.generate(input_ids, max_length=100, do_sample=True, top_k=100, top_p=0.9)\n",
    "    sentence = tokenizer.decode(outputs[0].numpy().tolist())\n",
    "    return sentence.split('<sys>')[1].replace('<pad>', '').replace('<unk>', '').replace(\"</s>\", \"\")"
   ]
  },
  {
   "cell_type": "code",
   "execution_count": null,
   "id": "8da58fd6",
   "metadata": {},
   "outputs": [
    {
     "data": {
      "text/plain": [
       "' 므레디즈에서 사온 초콜라보 므레디즈 초콜라보로 데코레이션해줘요,,,\\n(<unk><unk><unk><unk><unk><unk><unk><unk><unk><unk><unk><unk><unk><unk><unk><unk><unk><unk><unk><unk> )\\n우리 므레디즈의 매콤한 맛! 듬뿍!! ♡\\n#<unk><unk> #<unk><unk><unk> #<unk><unk><unk><unk> #<unk><unk><unk> '"
      ]
     },
     "execution_count": 25,
     "metadata": {},
     "output_type": "execute_result"
    }
   ],
   "source": [
    "chatbot(\"오늘 저녁 메뉴를 추천해줘\")"
   ]
  },
  {
   "cell_type": "code",
   "execution_count": null,
   "id": "bdc74789",
   "metadata": {},
   "outputs": [],
   "source": []
  }
 ],
 "metadata": {
  "kernelspec": {
   "display_name": ".venv",
   "language": "python",
   "name": "python3"
  },
  "language_info": {
   "codemirror_mode": {
    "name": "ipython",
    "version": 3
   },
   "file_extension": ".py",
   "mimetype": "text/x-python",
   "name": "python",
   "nbconvert_exporter": "python",
   "pygments_lexer": "ipython3",
   "version": "3.12.10"
  }
 },
 "nbformat": 4,
 "nbformat_minor": 5
}
