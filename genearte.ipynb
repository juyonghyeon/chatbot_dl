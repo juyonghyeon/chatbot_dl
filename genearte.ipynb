{
 "cells": [
  {
   "cell_type": "code",
   "execution_count": null,
   "id": "0cfa7d9a",
   "metadata": {},
   "outputs": [
    {
     "name": "stderr",
     "output_type": "stream",
     "text": [
      "Some weights of the PyTorch model were not used when initializing the TF 2.0 model TFGPT2LMHeadModel: ['transformer.h.11.attn.masked_bias', 'transformer.h.5.attn.masked_bias', 'transformer.h.2.attn.masked_bias', 'transformer.h.7.attn.masked_bias', 'transformer.h.0.attn.masked_bias', 'transformer.h.8.attn.masked_bias', 'transformer.h.9.attn.masked_bias', 'transformer.h.10.attn.masked_bias', 'transformer.h.1.attn.masked_bias', 'transformer.h.6.attn.masked_bias', 'transformer.h.4.attn.masked_bias', 'transformer.h.3.attn.masked_bias', 'lm_head.weight']\n",
      "- This IS expected if you are initializing TFGPT2LMHeadModel from a PyTorch model trained on another task or with another architecture (e.g. initializing a TFBertForSequenceClassification model from a BertForPreTraining model).\n",
      "- This IS NOT expected if you are initializing TFGPT2LMHeadModel from a PyTorch model that you expect to be exactly identical (e.g. initializing a TFBertForSequenceClassification model from a BertForSequenceClassification model).\n",
      "All the weights of TFGPT2LMHeadModel were initialized from the PyTorch model.\n",
      "If your task is similar to the task the model of the checkpoint was trained on, you can already use TFGPT2LMHeadModel for predictions without further training.\n"
     ]
    }
   ],
   "source": [
    "import tensorflow as tf\n",
    "from transformers import AutoTokenizer\n",
    "from transformers import TFGPT2LMHeadModel\n",
    "\n",
    "tokenizer = AutoTokenizer.from_pretrained('skt/kogpt2-base-v2', bos_token='<s>', eos_token='</s>', pad_token='<pad>')\n",
    "model = TFGPT2LMHeadModel.from_pretrained('skt/kogpt2-base-v2', from_pt=True)"
   ]
  },
  {
   "cell_type": "code",
   "execution_count": 19,
   "id": "8c848316",
   "metadata": {},
   "outputs": [],
   "source": [
    "# model.load_weights(\"chatbot.weights.h5\")"
   ]
  },
  {
   "cell_type": "code",
   "execution_count": null,
   "id": "94309cb7",
   "metadata": {},
   "outputs": [
    {
     "data": {
      "text/plain": [
       "[1, 2, 14821, 8135, 15495, 14841, 7172, 406, 4, 1]"
      ]
     },
     "execution_count": 20,
     "metadata": {},
     "output_type": "execute_result"
    }
   ],
   "source": [
    "text = \"<s><usr>밥은 먹고 다니니?<sys>\"\n",
    "input_ids = tokenizer.encode(text)\n",
    "input_ids"
   ]
  },
  {
   "cell_type": "code",
   "execution_count": 21,
   "id": "319d9aaf",
   "metadata": {},
   "outputs": [
    {
     "data": {
      "text/plain": [
       "'</s><usr> 밥은 먹고 다니니?<sys></s> ??|\"이 말을 들으니 이 사람은 그 말이 무슨 뜻인지 이해 못하겠습니다.\\n그건 \\'먹어도 먹어도 먹어도 먹어도 안 먹은다\\'는 말이고 \\'먹어도 먹어도 먹어도 먹어도 먹어 안 먹는다\\'는 말입니다.\\n또 \\'먹어도 먹어도 먹어도 먹고 안 먹을 것이다\\'라는 말도 들어 있습니다.\\n그런데 \\'먹어도 먹어도 먹어도 먹어도 먹어 안 먹으면\\' 하고 \\'먹어도 먹어\\' 한다고'"
      ]
     },
     "execution_count": 21,
     "metadata": {},
     "output_type": "execute_result"
    }
   ],
   "source": [
    "input_ids = tf.convert_to_tensor([input_ids])\n",
    "outputs = model.generate(input_ids, max_length=100, do_sample=True, top_k=20)\n",
    "tokenizer.decode(outputs[0].numpy().tolist())"
   ]
  },
  {
   "cell_type": "code",
   "execution_count": null,
   "id": "eb3a3a5b",
   "metadata": {},
   "outputs": [],
   "source": [
    "def chatbot(user_text):\n",
    "    input_ids = tokenizer.encode(f\"<s><usr>{user_text}<sys>\")\n",
    "    input_ids = tf.convert_to_tensor([input_ids])\n",
    "    outputs = model.generate(input_ids, max_length=100, do_sample=True, top_k=100, top_p=0.9)\n",
    "    sentence = tokenizer.decode(outputs[0].numpy().tolist())\n",
    "    return sentence.split('<sys>')[1]"
   ]
  },
  {
   "cell_type": "code",
   "execution_count": null,
   "id": "8da58fd6",
   "metadata": {},
   "outputs": [
    {
     "data": {
      "text/plain": [
       "' 므레디즈에서 사온 초콜라보 므레디즈 초콜라보로 데코레이션해줘요,,,\\n(<unk><unk><unk><unk><unk><unk><unk><unk><unk><unk><unk><unk><unk><unk><unk><unk><unk><unk><unk><unk> )\\n우리 므레디즈의 매콤한 맛! 듬뿍!! ♡\\n#<unk><unk> #<unk><unk><unk> #<unk><unk><unk><unk> #<unk><unk><unk> '"
      ]
     },
     "execution_count": 25,
     "metadata": {},
     "output_type": "execute_result"
    }
   ],
   "source": [
    "chatbot(\"오늘 저녁 메뉴를 추천해줘\")"
   ]
  },
  {
   "cell_type": "code",
   "execution_count": null,
   "id": "bdc74789",
   "metadata": {},
   "outputs": [],
   "source": []
  }
 ],
 "metadata": {
  "kernelspec": {
   "display_name": ".venv",
   "language": "python",
   "name": "python3"
  },
  "language_info": {
   "codemirror_mode": {
    "name": "ipython",
    "version": 3
   },
   "file_extension": ".py",
   "mimetype": "text/x-python",
   "name": "python",
   "nbconvert_exporter": "python",
   "pygments_lexer": "ipython3",
   "version": "3.12.10"
  }
 },
 "nbformat": 4,
 "nbformat_minor": 5
}
